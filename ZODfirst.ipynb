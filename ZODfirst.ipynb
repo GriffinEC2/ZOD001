{
 "cells": [
  {
   "cell_type": "markdown",
   "metadata": {},
   "source": [
    "You'll use the numpy library throughout.\n",
    "1. In python, create a function grandmatrix(n, m = 10) that takes integers n and m, and returns an nxn numpy array with each element a random integer in the range -m to m. Do this from scratch. (grandmatrix means griffin rand matrix, not 'really epic matrix')\n",
    "2. Now do the same thing using numpy.randint.\n",
    "3. Create a function gmatmult that takes two numpy arrays a and b, checks that they are compatible square matrices, raising an error if not, and returns their matrix product as a numpy array. For this you'll need to use loops.\n",
    "4. Test this on a few 2x2 matrices created by your grandmatrix function to make sure it's working. You can use the numpy eye() function to create an identity matrix to test it for multiplying the identity too.\n",
    "5. Now create a function cmatmult that does the same thing, but this time you're allowed to use the numpy matmult or @ operator. Do gmatmult and cmatmult give the same answers? Try them with a few random 6x6 matrices.\n",
    "6. What would you think the advantage might be of using the built in functions in cmatmult vs your own loops in gmatmult?\n",
    "7. Now test the performance (that means speed) of the gmatmult vs cmatmult. You can use the %%timeit function for this. Try it on some much larger matrices and see how the performance compares. What's the biggest size matrix you might conveniently multiply with your own version vs the 'native' version?"
   ]
  },
  {
   "cell_type": "code",
   "execution_count": null,
   "metadata": {},
   "outputs": [],
   "source": [
    "# this is thing"
   ]
  },
  {
   "cell_type": "markdown",
   "metadata": {},
   "source": [
    "1. In python, create a function grandmatrix(n, m = 10) that takes integers n and m, and returns an nxn numpy array with each element a random integer in the range -m to m. Do this from scratch. (grandmatrix means griffin rand matrix, not 'really epic matrix')"
   ]
  },
  {
   "cell_type": "code",
   "execution_count": null,
   "metadata": {},
   "outputs": [],
   "source": [
    "# 1.\n",
    "\n",
    "import random\n",
    "\n",
    "def g_rand_matrix(n, m = 10):\n",
    "    matrix = []\n",
    "    for i in range(n):\n",
    "        row = []\n",
    "        for j in range(n):\n",
    "            row.append(random.randint(-m, m))\n",
    "        matrix.append(row)\n",
    "    return matrix"
   ]
  },
  {
   "cell_type": "markdown",
   "metadata": {},
   "source": [
    "2. Now do the same thing using numpy.randint."
   ]
  },
  {
   "cell_type": "code",
   "execution_count": 11,
   "metadata": {},
   "outputs": [],
   "source": [
    "# 2.\n",
    "\n",
    "import numpy as np\n",
    "\n",
    "def numpy_rand_matrix(n, m=10):\n",
    "    return np.random.randint(-m, m + 1, size=(n, n))"
   ]
  },
  {
   "cell_type": "markdown",
   "metadata": {},
   "source": [
    "3. Create a function gmatmult that takes two numpy arrays a and b, checks that they are compatible square matrices, raising an error if not, and returns their matrix product as a numpy array. For this you'll need to use loops."
   ]
  },
  {
   "cell_type": "code",
   "execution_count": 27,
   "metadata": {},
   "outputs": [],
   "source": [
    "# 3.\n",
    "def g_mat_mult(a, b):\n",
    "\n",
    "    if a.shape[0] != a.shape[1] or b.shape[0] != b.shape[1]:\n",
    "        raise ValueError('not square matricies')\n",
    "\n",
    "    if a.shape[0] != b.shape[1]:\n",
    "        raise ValueError('not compatible matricies ')\n",
    "    \n",
    "    n = a.shape[0]\n",
    "    product = []\n",
    "    \n",
    "    for i in range(n):\n",
    "        row = []\n",
    "        for j in range(n):\n",
    "            row.append(0)\n",
    "            for k in range(n):\n",
    "                row[j] += a[i][k] * b[k][j]\n",
    "        product.append(row)\n",
    "    \n",
    "    return np.array(product, dtype=float)\n"
   ]
  },
  {
   "cell_type": "markdown",
   "metadata": {},
   "source": [
    "4. Test this on a few 2x2 matrices created by your grandmatrix function to make sure it's working. You can use the numpy eye() function to create an identity matrix to test it for multiplying the identity too."
   ]
  },
  {
   "cell_type": "code",
   "execution_count": 31,
   "metadata": {},
   "outputs": [
    {
     "name": "stdout",
     "output_type": "stream",
     "text": [
      "[[2. 3.]\n",
      " [5. 4.]]\n",
      "[[34. 37.]\n",
      " [15. 12.]]\n"
     ]
    }
   ],
   "source": [
    "# 4.\n",
    "print(g_mat_mult(np.eye(2), np.array([[2,3],[5,4]])))\n",
    "\n",
    "print(g_mat_mult(np.array([[7,4],[0,3]]), np.array([[2,3],[5,4]])))"
   ]
  },
  {
   "cell_type": "markdown",
   "metadata": {},
   "source": [
    "5. Now create a function cmatmult that does the same thing, but this time you're allowed to use the numpy matmult or @ operator. Do gmatmult and cmatmult give the same answers? Try them with a few random 6x6 matrices."
   ]
  },
  {
   "cell_type": "code",
   "execution_count": 37,
   "metadata": {},
   "outputs": [],
   "source": [
    "# 5.\n",
    "def c_mat_mult(a, b):\n",
    "    \n",
    "    if a.shape[0] != a.shape[1] or b.shape[0] != b.shape[1]:\n",
    "        raise ValueError('not square matricies')\n",
    "\n",
    "    if a.shape[0] != b.shape[1]:\n",
    "        raise ValueError('not compatible matricies ')\n",
    "    \n",
    "    return np.array(np.matmul(a, b), dtype=float)"
   ]
  },
  {
   "cell_type": "code",
   "execution_count": 40,
   "metadata": {},
   "outputs": [
    {
     "name": "stdout",
     "output_type": "stream",
     "text": [
      "[[34. 37.]\n",
      " [15. 12.]]\n",
      "[[34. 37.]\n",
      " [15. 12.]]\n"
     ]
    }
   ],
   "source": [
    "print(c_mat_mult(np.array([[7,4],[0,3]]), np.array([[2,3],[5,4]])))\n",
    "print(g_mat_mult(np.array([[7,4],[0,3]]), np.array([[2,3],[5,4]])))"
   ]
  },
  {
   "cell_type": "code",
   "execution_count": 62,
   "metadata": {},
   "outputs": [
    {
     "name": "stdout",
     "output_type": "stream",
     "text": [
      "[[ 85.  79.  86. 111.  74.  83.]\n",
      " [126. 121. 123. 182. 100. 147.]\n",
      " [ 64.  69.  82.  90.  75.  63.]\n",
      " [119.  99.  82. 162.  66. 146.]\n",
      " [125. 135. 140. 173. 116. 133.]\n",
      " [ 35.  31.  35.  46.  33.  36.]]\n",
      "[[ 85.  79.  86. 111.  74.  83.]\n",
      " [126. 121. 123. 182. 100. 147.]\n",
      " [ 64.  69.  82.  90.  75.  63.]\n",
      " [119.  99.  82. 162.  66. 146.]\n",
      " [125. 135. 140. 173. 116. 133.]\n",
      " [ 35.  31.  35.  46.  33.  36.]]\n"
     ]
    }
   ],
   "source": [
    "x = np.array([[1,2,4,3,5,6],[4,5,3,6,7,8],[2,3,5,1,2,3],[9,0,0,8,7,8],[5,6,4,3,7,8],[2,1,2,1,2,1]])\n",
    "y = np.array([[3,4,3,4,3,4],[3,6,7,8,5,6],[5,4,7,6,8,3],[4,0,0,9,0,9],[4,1,1,2,1,2],[4,7,6,5,4,3]])\n",
    "\n",
    "print(g_mat_mult(x, y))\n",
    "print(c_mat_mult(x, y))"
   ]
  },
  {
   "cell_type": "markdown",
   "metadata": {},
   "source": [
    "6. What would you think the advantage might be of using the built in functions in cmatmult vs your own loops in gmatmult?\n",
    "\n",
    "because time"
   ]
  },
  {
   "cell_type": "markdown",
   "metadata": {},
   "source": [
    "7. Now test the performance (that means speed) of the gmatmult vs cmatmult. You can use the %%timeit function for this. Try it on some much larger matrices and see how the performance compares. What's the biggest size matrix you might conveniently multiply with your own version vs the 'native' version?"
   ]
  },
  {
   "cell_type": "code",
   "execution_count": 84,
   "metadata": {},
   "outputs": [
    {
     "name": "stdout",
     "output_type": "stream",
     "text": [
      "1.124857268994674\n",
      "0.023158397001679987\n"
     ]
    }
   ],
   "source": [
    "# 7. \n",
    "import timeit\n",
    "\n",
    "# initialising matrices\n",
    "x = np.array([[1,2,4,3,5,6],[4,5,3,6,7,8],[2,3,5,1,2,3],[9,0,0,8,7,8],[5,6,4,3,7,8],[2,1,2,1,2,1]])\n",
    "y = np.array([[3,4,3,4,3,4],[3,6,7,8,5,6],[5,4,7,6,8,3],[4,0,0,9,0,9],[4,1,1,2,1,2],[4,7,6,5,4,3]])\n",
    "\n",
    "# timing\n",
    "print(timeit.timeit('g_mat_mult(x, y)', globals=globals(), number=10000))\n",
    "print(timeit.timeit('c_mat_mult(x, y)', globals=globals(), number=10000))\n",
    "\n",
    "# c_mat_mult can do 100000 no problem, but g is too slow"
   ]
  },
  {
   "cell_type": "code",
   "execution_count": 74,
   "metadata": {},
   "outputs": [
    {
     "name": "stdout",
     "output_type": "stream",
     "text": [
      "5.999987479299307e-06\n"
     ]
    }
   ],
   "source": [
    "# testing timeit()\n",
    "import timeit\n",
    "import random\n",
    "import_module = \"import random\"\n",
    "\n",
    "def test(): \n",
    "    return random.randint(10, 100)\n",
    "\n",
    "\n",
    "print(timeit.timeit('test()', globals=globals(), number=1))"
   ]
  },
  {
   "cell_type": "code",
   "execution_count": null,
   "metadata": {},
   "outputs": [],
   "source": []
  },
  {
   "cell_type": "code",
   "execution_count": null,
   "metadata": {},
   "outputs": [],
   "source": []
  },
  {
   "cell_type": "code",
   "execution_count": null,
   "metadata": {},
   "outputs": [],
   "source": []
  },
  {
   "cell_type": "code",
   "execution_count": null,
   "metadata": {},
   "outputs": [],
   "source": []
  }
 ],
 "metadata": {
  "kernelspec": {
   "display_name": "Python 3",
   "language": "python",
   "name": "python3"
  },
  "language_info": {
   "codemirror_mode": {
    "name": "ipython",
    "version": 3
   },
   "file_extension": ".py",
   "mimetype": "text/x-python",
   "name": "python",
   "nbconvert_exporter": "python",
   "pygments_lexer": "ipython3",
   "version": "3.10.12"
  }
 },
 "nbformat": 4,
 "nbformat_minor": 2
}
