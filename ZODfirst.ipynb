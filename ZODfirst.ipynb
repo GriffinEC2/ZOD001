{
 "cells": [
  {
   "cell_type": "markdown",
   "metadata": {},
   "source": [
    "You'll use the numpy library throughout.\n",
    "1. In python, create a function grandmatrix(n, m = 10) that takes integers n and m, and returns an nxn numpy array with each element a random integer in the range -m to m. Do this from scratch. (grandmatrix means griffin rand matrix, not 'really epic matrix')\n",
    "2. Now do the same thing using numpy.randint.\n",
    "3. Create a function gmatmult that takes two numpy arrays a and b, checks that they are compatible square matrices, raising an error if not, and returns their matrix product as a numpy array. For this you'll need to use loops.\n",
    "4. Test this on a few 2x2 matrices created by your grandmatrix function to make sure it's working. You can use the numpy eye() function to create an identity matrix to test it for multiplying the identity too.\n",
    "5. Now create a function cmatmult that does the same thing, but this time you're allowed to use the numpy matmult or @ operator. Do gmatmult and cmatmult give the same answers? Try them with a few random 6x6 matrices.\n",
    "6. What would you think the advantage might be of using the built in functions in cmatmult vs your own loops in gmatmult?\n",
    "7. Now test the performance (that means speed) of the gmatmult vs cmatmult. You can use the %%timeit function for this. Try it on some much larger matrices and see how the performance compares. What's the biggest size matrix you might conveniently multiply with your own version vs the 'native' version?"
   ]
  },
  {
   "cell_type": "code",
   "execution_count": null,
   "metadata": {},
   "outputs": [],
   "source": [
    "# this is thing"
   ]
  },
  {
   "cell_type": "markdown",
   "metadata": {},
   "source": [
    "1. In python, create a function grandmatrix(n, m = 10) that takes integers n and m, and returns an nxn numpy array with each element a random integer in the range -m to m. Do this from scratch. (grandmatrix means griffin rand matrix, not 'really epic matrix')"
   ]
  },
  {
   "cell_type": "code",
   "execution_count": 110,
   "metadata": {},
   "outputs": [],
   "source": [
    "# 1.\n",
    "\n",
    "import random\n",
    "import numpy as np\n",
    "\n",
    "def g_rand_matrix(n, m = 100):\n",
    "    matrix = []\n",
    "    for i in range(n):\n",
    "        row = []\n",
    "        for j in range(n):\n",
    "            row.append(random.randint(-m, m))\n",
    "        matrix.append(row)\n",
    "    return np.array(matrix)"
   ]
  },
  {
   "cell_type": "code",
   "execution_count": 111,
   "metadata": {},
   "outputs": [
    {
     "name": "stdout",
     "output_type": "stream",
     "text": [
      "[[-89  83 -22  -9 -49  59]\n",
      " [ 70  58  43   3  28  33]\n",
      " [-31  -3 -45  -7 -26 -40]\n",
      " [-56 -62  96  87  27 -77]\n",
      " [ 97   4 -36 -39  30  85]\n",
      " [ 50   0  45 -98  32 -56]]\n"
     ]
    }
   ],
   "source": [
    "print(g_rand_matrix(6))"
   ]
  },
  {
   "cell_type": "markdown",
   "metadata": {},
   "source": [
    "2. Now do the same thing using numpy.randint."
   ]
  },
  {
   "cell_type": "code",
   "execution_count": 108,
   "metadata": {},
   "outputs": [],
   "source": [
    "# 2.\n",
    "\n",
    "import numpy as np\n",
    "\n",
    "def numpy_rand_matrix(n, m=100):\n",
    "    return np.random.randint(-m, m + 1, size=(n, n))"
   ]
  },
  {
   "cell_type": "code",
   "execution_count": 109,
   "metadata": {},
   "outputs": [
    {
     "name": "stdout",
     "output_type": "stream",
     "text": [
      "[[ -6  22 -65  72  31]\n",
      " [ 26 -58 -58 -39 -32]\n",
      " [ 92  86   5  83   5]\n",
      " [-30  86  26  11 -10]\n",
      " [-78 -38  39  77 -84]]\n"
     ]
    }
   ],
   "source": [
    "print(numpy_rand_matrix(5))"
   ]
  },
  {
   "cell_type": "markdown",
   "metadata": {},
   "source": [
    "3. Create a function gmatmult that takes two numpy arrays a and b, checks that they are compatible square matrices, raising an error if not, and returns their matrix product as a numpy array. For this you'll need to use loops."
   ]
  },
  {
   "cell_type": "code",
   "execution_count": 27,
   "metadata": {},
   "outputs": [],
   "source": [
    "# 3.\n",
    "def g_mat_mult(a, b):\n",
    "\n",
    "    if a.shape[0] != a.shape[1] or b.shape[0] != b.shape[1]:\n",
    "        raise ValueError('not square matricies')\n",
    "\n",
    "    if a.shape[0] != b.shape[1]:\n",
    "        raise ValueError('not compatible matricies ')\n",
    "    \n",
    "    n = a.shape[0]\n",
    "    product = []\n",
    "    \n",
    "    for i in range(n):\n",
    "        row = []\n",
    "        for j in range(n):\n",
    "            row.append(0)\n",
    "            for k in range(n):\n",
    "                row[j] += a[i][k] * b[k][j]\n",
    "        product.append(row)\n",
    "    \n",
    "    return np.array(product, dtype=float)\n"
   ]
  },
  {
   "cell_type": "markdown",
   "metadata": {},
   "source": [
    "4. Test this on a few 2x2 matrices created by your grandmatrix function to make sure it's working. You can use the numpy eye() function to create an identity matrix to test it for multiplying the identity too."
   ]
  },
  {
   "cell_type": "code",
   "execution_count": 31,
   "metadata": {},
   "outputs": [
    {
     "name": "stdout",
     "output_type": "stream",
     "text": [
      "[[2. 3.]\n",
      " [5. 4.]]\n",
      "[[34. 37.]\n",
      " [15. 12.]]\n"
     ]
    }
   ],
   "source": [
    "# 4.\n",
    "print(g_mat_mult(np.eye(2), np.array([[2,3],[5,4]])))\n",
    "\n",
    "print(g_mat_mult(np.array([[7,4],[0,3]]), np.array([[2,3],[5,4]])))"
   ]
  },
  {
   "cell_type": "markdown",
   "metadata": {},
   "source": [
    "5. Now create a function cmatmult that does the same thing, but this time you're allowed to use the numpy matmult or @ operator. Do gmatmult and cmatmult give the same answers? Try them with a few random 6x6 matrices."
   ]
  },
  {
   "cell_type": "code",
   "execution_count": 37,
   "metadata": {},
   "outputs": [],
   "source": [
    "# 5.\n",
    "def c_mat_mult(a, b):\n",
    "    \n",
    "    if a.shape[0] != a.shape[1] or b.shape[0] != b.shape[1]:\n",
    "        raise ValueError('not square matricies')\n",
    "\n",
    "    if a.shape[0] != b.shape[1]:\n",
    "        raise ValueError('not compatible matricies ')\n",
    "    \n",
    "    return np.array(np.matmul(a, b), dtype=float)"
   ]
  },
  {
   "cell_type": "code",
   "execution_count": 40,
   "metadata": {},
   "outputs": [
    {
     "name": "stdout",
     "output_type": "stream",
     "text": [
      "[[34. 37.]\n",
      " [15. 12.]]\n",
      "[[34. 37.]\n",
      " [15. 12.]]\n"
     ]
    }
   ],
   "source": [
    "print(c_mat_mult(np.array([[7,4],[0,3]]), np.array([[2,3],[5,4]])))\n",
    "print(g_mat_mult(np.array([[7,4],[0,3]]), np.array([[2,3],[5,4]])))"
   ]
  },
  {
   "cell_type": "code",
   "execution_count": 112,
   "metadata": {},
   "outputs": [
    {
     "name": "stdout",
     "output_type": "stream",
     "text": [
      "[[ 5957.  4039.  1546.  6384. -2103.  3536.]\n",
      " [ 3586.  4716.   117.  3234. -7297. -7346.]\n",
      " [ 4547. 12243.  1630.  4054.  3246. -3562.]\n",
      " [-6248.  3498.  4937. -3663. 11069. -7919.]\n",
      " [  896.  6014. -1884. -6580. -2469. -9088.]\n",
      " [-5707. -6226.  9388.  5842.  5267. -3001.]]\n",
      "[[ 5957.  4039.  1546.  6384. -2103.  3536.]\n",
      " [ 3586.  4716.   117.  3234. -7297. -7346.]\n",
      " [ 4547. 12243.  1630.  4054.  3246. -3562.]\n",
      " [-6248.  3498.  4937. -3663. 11069. -7919.]\n",
      " [  896.  6014. -1884. -6580. -2469. -9088.]\n",
      " [-5707. -6226.  9388.  5842.  5267. -3001.]]\n"
     ]
    }
   ],
   "source": [
    "x = g_rand_matrix(6)\n",
    "y = g_rand_matrix(6)\n",
    "\n",
    "print(g_mat_mult(x, y))\n",
    "print(c_mat_mult(x, y))"
   ]
  },
  {
   "cell_type": "markdown",
   "metadata": {},
   "source": [
    "6. What would you think the advantage might be of using the built in functions in cmatmult vs your own loops in gmatmult?\n",
    "\n",
    "because time"
   ]
  },
  {
   "cell_type": "markdown",
   "metadata": {},
   "source": [
    "7. Now test the performance (that means speed) of the gmatmult vs cmatmult. You can use the %%timeit function for this. Try it on some much larger matrices and see how the performance compares. What's the biggest size matrix you might conveniently multiply with your own version vs the 'native' version?"
   ]
  },
  {
   "cell_type": "code",
   "execution_count": 113,
   "metadata": {},
   "outputs": [
    {
     "name": "stdout",
     "output_type": "stream",
     "text": [
      "1.130906005972065\n",
      "0.023468256986234337\n"
     ]
    }
   ],
   "source": [
    "# 7. \n",
    "import timeit\n",
    "\n",
    "\n",
    "# timing\n",
    "print(timeit.timeit('g_mat_mult(x, y)', globals=globals(), number=10000))\n",
    "print(timeit.timeit('c_mat_mult(x, y)', globals=globals(), number=10000))\n",
    "\n",
    "# c_mat_mult can do 100000 no problem, but g is too slow"
   ]
  },
  {
   "cell_type": "code",
   "execution_count": 122,
   "metadata": {},
   "outputs": [],
   "source": [
    "xx = g_rand_matrix(100)\n",
    "yy = g_rand_matrix(100)"
   ]
  },
  {
   "cell_type": "code",
   "execution_count": 116,
   "metadata": {},
   "outputs": [],
   "source": [
    "# BETTER WAY alegidly"
   ]
  },
  {
   "cell_type": "code",
   "execution_count": 123,
   "metadata": {},
   "outputs": [
    {
     "name": "stdout",
     "output_type": "stream",
     "text": [
      "546 μs ± 3.17 μs per loop (mean ± std. dev. of 7 runs, 1,000 loops each)\n"
     ]
    }
   ],
   "source": [
    "%%timeit\n",
    "c_mat_mult(xx, yy)"
   ]
  },
  {
   "cell_type": "code",
   "execution_count": 124,
   "metadata": {},
   "outputs": [
    {
     "name": "stdout",
     "output_type": "stream",
     "text": [
      "437 ms ± 9.05 ms per loop (mean ± std. dev. of 7 runs, 1 loop each)\n"
     ]
    }
   ],
   "source": [
    "%%timeit\n",
    "g_mat_mult(xx, yy)"
   ]
  },
  {
   "cell_type": "code",
   "execution_count": 125,
   "metadata": {},
   "outputs": [],
   "source": [
    "# c 1000 times faster"
   ]
  },
  {
   "cell_type": "code",
   "execution_count": null,
   "metadata": {},
   "outputs": [],
   "source": []
  },
  {
   "cell_type": "code",
   "execution_count": 74,
   "metadata": {},
   "outputs": [
    {
     "name": "stdout",
     "output_type": "stream",
     "text": [
      "5.999987479299307e-06\n"
     ]
    }
   ],
   "source": [
    "# testing timeit()\n",
    "import timeit\n",
    "import random\n",
    "import_module = \"import random\"\n",
    "\n",
    "def test(): \n",
    "    return random.randint(10, 100)\n",
    "\n",
    "\n",
    "print(timeit.timeit('test()', globals=globals(), number=1))"
   ]
  },
  {
   "cell_type": "code",
   "execution_count": null,
   "metadata": {},
   "outputs": [],
   "source": []
  },
  {
   "cell_type": "code",
   "execution_count": null,
   "metadata": {},
   "outputs": [],
   "source": []
  },
  {
   "cell_type": "code",
   "execution_count": null,
   "metadata": {},
   "outputs": [],
   "source": []
  },
  {
   "cell_type": "code",
   "execution_count": null,
   "metadata": {},
   "outputs": [],
   "source": [
    "# einstein stuff"
   ]
  },
  {
   "cell_type": "code",
   "execution_count": 127,
   "metadata": {},
   "outputs": [],
   "source": [
    "def e_mat_mult(a, b):\n",
    "    return np.array(np.einsum('ik, kj -> ij', a, b), dtype=float)"
   ]
  },
  {
   "cell_type": "code",
   "execution_count": 128,
   "metadata": {},
   "outputs": [
    {
     "name": "stdout",
     "output_type": "stream",
     "text": [
      "[[34. 37.]\n",
      " [15. 12.]]\n",
      "[[34. 37.]\n",
      " [15. 12.]]\n"
     ]
    }
   ],
   "source": [
    "print(c_mat_mult(np.array([[7,4],[0,3]]), np.array([[2,3],[5,4]])))\n",
    "print(e_mat_mult(np.array([[7,4],[0,3]]), np.array([[2,3],[5,4]])))"
   ]
  },
  {
   "cell_type": "code",
   "execution_count": 129,
   "metadata": {},
   "outputs": [
    {
     "name": "stdout",
     "output_type": "stream",
     "text": [
      "[[-13236. -74116. -17269. ...   -288.  42104. -11397.]\n",
      " [ 20838.   -418.   5482. ...  42402.  15548.  19697.]\n",
      " [  7168. -59418. -37573. ...  14677. -37760.  13839.]\n",
      " ...\n",
      " [ 17604.  34902.   5273. ...  -2112. -45622. -99782.]\n",
      " [ -5866.  23255. -12846. ...   8092.  43521. -29477.]\n",
      " [ -7060.  67394. -42804. ...  16230.  61013.  27971.]]\n",
      "[[-13236. -74116. -17269. ...   -288.  42104. -11397.]\n",
      " [ 20838.   -418.   5482. ...  42402.  15548.  19697.]\n",
      " [  7168. -59418. -37573. ...  14677. -37760.  13839.]\n",
      " ...\n",
      " [ 17604.  34902.   5273. ...  -2112. -45622. -99782.]\n",
      " [ -5866.  23255. -12846. ...   8092.  43521. -29477.]\n",
      " [ -7060.  67394. -42804. ...  16230.  61013.  27971.]]\n"
     ]
    }
   ],
   "source": [
    "print(g_mat_mult(xx, yy))\n",
    "print(e_mat_mult(xx, yy))"
   ]
  },
  {
   "cell_type": "code",
   "execution_count": 102,
   "metadata": {},
   "outputs": [
    {
     "name": "stdout",
     "output_type": "stream",
     "text": [
      "0.7044883850030601\n",
      "0.7884677900001407\n"
     ]
    }
   ],
   "source": [
    "import timeit\n",
    "\n",
    "# initialising matrices\n",
    "x = np.random.randint(0, 100, size=(20, 20))\n",
    "y = np.random.randint(0, 100, size=(20, 20))\n",
    "\n",
    "numtimes = 10 ** 5\n",
    "\n",
    "# timing\n",
    "print(timeit.timeit('c_mat_mult(x, y)', globals=globals(), number=numtimes))\n",
    "print(timeit.timeit('e_mat_mult(x, y)', globals=globals(), number=numtimes))"
   ]
  },
  {
   "cell_type": "code",
   "execution_count": 105,
   "metadata": {},
   "outputs": [
    {
     "name": "stdout",
     "output_type": "stream",
     "text": [
      "2.327162633999251\n",
      "2.969280399964191\n"
     ]
    }
   ],
   "source": [
    "import timeit\n",
    "\n",
    "# initialising matrices\n",
    "x = np.array([[1,2,4,3,5,6],[4,5,3,6,7,8],[2,3,5,1,2,3],[9,0,0,8,7,8],[5,6,4,3,7,8],[2,1,2,1,2,1]])\n",
    "y = np.array([[3,4,3,4,3,4],[3,6,7,8,5,6],[5,4,7,6,8,3],[4,0,0,9,0,9],[4,1,1,2,1,2],[4,7,6,5,4,3]])\n",
    "\n",
    "numtimes = 10 ** 6\n",
    "\n",
    "# timing\n",
    "print(timeit.timeit('c_mat_mult(x, y)', globals=globals(), number=numtimes))\n",
    "print(timeit.timeit('e_mat_mult(x, y)', globals=globals(), number=numtimes))\n"
   ]
  },
  {
   "cell_type": "code",
   "execution_count": null,
   "metadata": {},
   "outputs": [],
   "source": [
    "# BETTER WAY"
   ]
  },
  {
   "cell_type": "code",
   "execution_count": 134,
   "metadata": {},
   "outputs": [],
   "source": [
    "xxx = g_rand_matrix(1000)\n",
    "yyy = g_rand_matrix(1000)"
   ]
  },
  {
   "cell_type": "code",
   "execution_count": 135,
   "metadata": {},
   "outputs": [
    {
     "name": "stdout",
     "output_type": "stream",
     "text": [
      "582 ms ± 7.67 ms per loop (mean ± std. dev. of 7 runs, 1 loop each)\n"
     ]
    }
   ],
   "source": [
    "%%timeit\n",
    "c_mat_mult(xxx, yyy)"
   ]
  },
  {
   "cell_type": "code",
   "execution_count": 136,
   "metadata": {},
   "outputs": [
    {
     "name": "stdout",
     "output_type": "stream",
     "text": [
      "466 ms ± 2.58 ms per loop (mean ± std. dev. of 7 runs, 1 loop each)\n"
     ]
    }
   ],
   "source": [
    "%%timeit\n",
    "e_mat_mult(xxx, yyy)"
   ]
  },
  {
   "cell_type": "markdown",
   "metadata": {},
   "source": [
    "Einstein summation convention seems to be slightly fster than direct numpy matmul"
   ]
  }
 ],
 "metadata": {
  "kernelspec": {
   "display_name": "Python 3",
   "language": "python",
   "name": "python3"
  },
  "language_info": {
   "codemirror_mode": {
    "name": "ipython",
    "version": 3
   },
   "file_extension": ".py",
   "mimetype": "text/x-python",
   "name": "python",
   "nbconvert_exporter": "python",
   "pygments_lexer": "ipython3",
   "version": "3.10.12"
  }
 },
 "nbformat": 4,
 "nbformat_minor": 2
}
